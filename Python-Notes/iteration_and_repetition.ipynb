{
 "cells": [
  {
   "cell_type": "markdown",
   "metadata": {},
   "source": [
    "#Coding vs. Programming\n",
    "##Programming is a mental activity where we\n",
    "##programmatically understand the problem\n",
    "##and build programmatic solutions to that problem.\n",
    "##Programming happens in your head, in conversations, on whiteboards, or paper\n",
    "- What are the ways we can represent the problem\n",
    "- Identify the atomic operations (what’s the smallest operation (in English) that can happen)\n",
    "- Identify the sequence of events\n",
    "- Identify any conditional execution\n",
    "- Identify any repetition\n",
    "\n",
    "###Coding = converting or translating your programmatic solution (in pseudo-code or English or natural language) to a specific programming language"
   ]
  },
  {
   "cell_type": "markdown",
   "metadata": {},
   "source": [
    "# Python's two basic loops\n",
    "## For loop\n",
    "### while loop"
   ]
  },
  {
   "cell_type": "markdown",
   "metadata": {},
   "source": [
    "##### while some_condition (if 4> 2):\n",
    "    ### indented code runs until that condition is False"
   ]
  },
  {
   "cell_type": "code",
   "execution_count": null,
   "metadata": {},
   "outputs": [],
   "source": [
    "# break exits a loop completely\n",
    "\n",
    "#continue skips to the next loop iteration"
   ]
  },
  {
   "cell_type": "code",
   "execution_count": 2,
   "metadata": {},
   "outputs": [
    {
     "name": "stdout",
     "output_type": "stream",
     "text": [
      "1\n",
      "3\n",
      "4\n",
      "5\n",
      "6\n",
      "7\n",
      "2\n",
      "4\n",
      "6\n"
     ]
    }
   ],
   "source": [
    "numbers = [1,2,3,4,5,6,7]\n",
    "\n",
    "for number in numbers:\n",
    "    if number == 2:\n",
    "        continue\n",
    "    print(number)\n",
    "    \n",
    "# or prints only odd numbers\n",
    "\n",
    "for number in numbers:\n",
    "    if number % 2:\n",
    "        continue\n",
    "    print(number)"
   ]
  },
  {
   "cell_type": "code",
   "execution_count": null,
   "metadata": {},
   "outputs": [],
   "source": []
  },
  {
   "cell_type": "code",
   "execution_count": null,
   "metadata": {},
   "outputs": [],
   "source": []
  }
 ],
 "metadata": {
  "kernelspec": {
   "display_name": "Python 3",
   "language": "python",
   "name": "python3"
  },
  "language_info": {
   "codemirror_mode": {
    "name": "ipython",
    "version": 3
   },
   "file_extension": ".py",
   "mimetype": "text/x-python",
   "name": "python",
   "nbconvert_exporter": "python",
   "pygments_lexer": "ipython3",
   "version": "3.7.4"
  }
 },
 "nbformat": 4,
 "nbformat_minor": 2
}
